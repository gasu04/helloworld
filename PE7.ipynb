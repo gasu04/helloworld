{
  "nbformat": 4,
  "nbformat_minor": 0,
  "metadata": {
    "colab": {
      "provenance": [],
      "authorship_tag": "ABX9TyNq3VDWuFfcICdBEQhmVPHV",
      "include_colab_link": true
    },
    "kernelspec": {
      "name": "python3",
      "display_name": "Python 3"
    },
    "language_info": {
      "name": "python"
    }
  },
  "cells": [
    {
      "cell_type": "markdown",
      "metadata": {
        "id": "view-in-github",
        "colab_type": "text"
      },
      "source": [
        "<a href=\"https://colab.research.google.com/github/gasu04/helloworld/blob/master/PE7.ipynb\" target=\"_parent\"><img src=\"https://colab.research.google.com/assets/colab-badge.svg\" alt=\"Open In Colab\"/></a>"
      ]
    },
    {
      "cell_type": "code",
      "execution_count": null,
      "metadata": {
        "id": "Y7O2-7GkL7gg"
      },
      "outputs": [],
      "source": []
    },
    {
      "cell_type": "markdown",
      "source": [
        "By listing the first six prime numbers:\n",
        ", and\n",
        ", we can see that the\n",
        "th prime is\n",
        ".\n",
        "\n",
        "What is the 10001 st prime number?"
      ],
      "metadata": {
        "id": "TDwEyNvRL_uH"
      }
    },
    {
      "cell_type": "markdown",
      "source": [
        "One such “prime number generator” is the formula for the nth prime number by C. P. Willans. This function, p(n), spits out the nth prime number for any value of n. For example, for n = 5, this formula returns p(5) = 11 because 11 is the fifth prime number.\n",
        "\n",
        "The idea behind Willans’s formula is to first find a function that detects prime numbers—we’ll call that function f(x). If the detector works, the function will give you a 1 every time it detects a prime number (whenever you input a number or equation equal to a prime number value). Otherwise the function will give you a 0, meaning that no prime number is detected.\n",
        "\n",
        "This principle can be generalized. The nth prime number is the smallest natural number x for which f(1) + f(2) + … + f(x) = n. What all of this means is that if you can express this procedure with a function that will deliver the searched value x, you will have created a prime number generator.\n",
        "\n",
        "Let’s do that together. First, it’s helpful to introduce another auxiliary function g(x) corresponding to the sum f(1) + … + f(x). Thus:\n",
        "\n",
        "g(1) = f(1) = 0,\n",
        "g(2) = f(1) + f(2) = 1,\n",
        "g(3) = f(1) + f(2) + f(3) = 2,\n",
        "g(4) = f(1) + f(2) + f(3) + f(4) = 2,\n",
        "g(5) = f(1) + f(2) + f(3) + f(4) + f(5) = 3,\n",
        "g(6) = f(1) + f(2) + f(3) + f(4) + f(5) + f(6) = 3,\n",
        "g(7) = f(1) + f(2) + f(3) + f(4) + f(5) + f(6) + f(7) = 4 …\n",
        "\n",
        "x\n",
        "\n"
      ],
      "metadata": {
        "id": "_V7BQH54MH-7"
      }
    },
    {
      "cell_type": "code",
      "source": [
        "from ast import Num\n",
        "\n",
        "\n",
        "def is_prime(n):\n",
        "    if n <= 1:\n",
        "        return False\n",
        "    for i in range(2, int(n**0.5) + 1):\n",
        "        if n % i == 0:\n",
        "            return False\n",
        "    return True\n",
        "\n",
        "def g(count):\n",
        "   g=0\n",
        "   x=2\n",
        "   while x <= count:\n",
        "    if is_prime(x):\n",
        "        g+=1\n",
        "    x+=1\n",
        "   return g\n",
        "\n",
        "#count=7\n",
        "#print (\"g =\", g(count))\n",
        "\n",
        "def nth_prime(Num):\n",
        "    i = 1\n",
        "    total_sum = 0  # Renamed 'sum' to 'total_sum' to avoid conflict with the built-in sum() function\n",
        "    while i <= 2 ** Num:  # Corrected to 2 ** Num for exponentiation\n",
        "        calc = ((Num / (g(i) + 1)) ** (1 / Num)) // 1  # Assuming g(i) is a function defined elsewhere\n",
        "        total_sum += calc  # Corrected the syntax for adding to the sum\n",
        "        i += 1\n",
        "    return total_sum + 1  # Returning the sum instead of printing it inside the function\n",
        "\n",
        "num = 20\n",
        "print (\"n= \", num, \"nth prime = \")\n",
        "nth_prime(num)\n"
      ],
      "metadata": {
        "id": "uSoK3OvuN58d",
        "colab": {
          "base_uri": "https://localhost:8080/"
        },
        "outputId": "05aaff32-7854-4eaf-b68b-324480bf4dca"
      },
      "execution_count": null,
      "outputs": [
        {
          "output_type": "stream",
          "name": "stdout",
          "text": [
            "n=  20 nth prime = \n"
          ]
        }
      ]
    },
    {
      "cell_type": "markdown",
      "source": [
        "El algoritmo anterior es muy ineficiente, no se puede hacer ni siquiera n=20,  usaremos el filtro de Eratostenes para ver\n"
      ],
      "metadata": {
        "id": "FHcaekJKcyIZ"
      }
    },
    {
      "cell_type": "code",
      "source": [
        "# prompt: find the nth prime with an erathostenes sieve for large n, n is near 10000\n",
        "\n",
        "import math\n",
        "import time\n",
        "import matplotlib.pyplot as plt\n",
        "\n",
        "\n",
        "\n",
        "def eratosthenes(n):\n",
        "    \"\"\"Return all primes up to and including n.\"\"\"\n",
        "    primes = []\n",
        "    is_prime = [True] * (n + 1)\n",
        "    is_prime[0] = is_prime[1] = False\n",
        "    for i in range(2, int(math.sqrt(n)) + 1):\n",
        "        if is_prime[i]:\n",
        "            for j in range(i * i, n + 1, i):\n",
        "                is_prime[j] = False\n",
        "    for i in range(2, n + 1):\n",
        "        if is_prime[i]:\n",
        "            primes.append(i)\n",
        "    return primes\n",
        "\n",
        "def main():\n",
        "    \"\"\"Find the nth prime using the Eratosthenes sieve.\"\"\"\n",
        "    n = 4\n",
        "    print(\"Finding the\", n, \"th prime...\")\n",
        "    start = time.time()\n",
        "    primes = eratosthenes(n)\n",
        "    end = time.time()\n",
        "    print(\"Found the\", n, \"th prime in\", end - start, \"seconds.\")\n",
        "    print(\"The\", n, \"th prime is\", primes[-1])\n",
        "\n",
        "if __name__ == \"__main__\":\n",
        "    main()\n"
      ],
      "metadata": {
        "colab": {
          "base_uri": "https://localhost:8080/"
        },
        "id": "9_TvzMJBc-3J",
        "outputId": "df73bfc0-fc23-48ef-bf8c-7fbb1104f13f"
      },
      "execution_count": 14,
      "outputs": [
        {
          "output_type": "stream",
          "name": "stdout",
          "text": [
            "Finding the 4 th prime...\n",
            "Found the 4 th prime in 8.344650268554688e-06 seconds.\n",
            "The 4 th prime is 3\n"
          ]
        }
      ]
    },
    {
      "cell_type": "code",
      "source": [
        "# prompt: find the nth prime with an erathostenes sieve for large n, n is near 10000\n",
        "\n",
        "import math\n",
        "import time\n",
        "import matplotlib.pyplot as plt\n",
        "\n",
        "\n",
        "\n",
        "def eratosthenes(n):\n",
        "    \"\"\"Return all primes up to and including n.\"\"\"\n",
        "    primes = []\n",
        "    is_prime = [True] * (n + 1)\n",
        "    is_prime[0] = is_prime[1] = False\n",
        "    for i in range(2, int(math.sqrt(n)) + 1):\n",
        "        if is_prime[i]:\n",
        "            for j in range(i * i, n + 1, i):\n",
        "                is_prime[j] = False\n",
        "    for i in range(2, n + 1):\n",
        "        if is_prime[i]:\n",
        "            primes.append(i)\n",
        "    return primes\n",
        "\n",
        "def main():\n",
        "    \"\"\"Find the nth prime using the Eratosthenes sieve.\"\"\"\n",
        "    n = 10001  # This is the index of the prime we want to find, not the upper bound for the sieve\n",
        "    upper_bound = int(n * (math.log(n) + math.log(math.log(n))))  # An upper bound for the nth prime\n",
        "    print(\"Finding the\", n, \"th prime...\")\n",
        "    start = time.time()\n",
        "    primes = eratosthenes(upper_bound)\n",
        "    end = time.time()\n",
        "    if len(primes) >= n:\n",
        "        print(\"Found the\", n, \"th prime in\", end - start, \"seconds.\")\n",
        "        print(\"The\", n, \"th prime is\", primes[n-1])\n",
        "    else:\n",
        "        print(\"Upper bound was not high enough to find the\", n, \"th prime.\")\n",
        "\n",
        "if __name__ == \"__main__\":\n",
        "    main()"
      ],
      "metadata": {
        "colab": {
          "base_uri": "https://localhost:8080/"
        },
        "id": "INRYTnUso9Yf",
        "outputId": "5a0d1ffc-69a4-4250-a44a-64c3387cfcbf"
      },
      "execution_count": 16,
      "outputs": [
        {
          "output_type": "stream",
          "name": "stdout",
          "text": [
            "Finding the 10001 th prime...\n",
            "Found the 10001 th prime in 0.021733522415161133 seconds.\n",
            "The 10001 th prime is 104743\n"
          ]
        }
      ]
    }
  ]
}